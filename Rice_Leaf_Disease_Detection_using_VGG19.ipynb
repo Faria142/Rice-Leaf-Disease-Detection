{
  "nbformat": 4,
  "nbformat_minor": 0,
  "metadata": {
    "colab": {
      "provenance": []
    },
    "kernelspec": {
      "name": "python3",
      "display_name": "Python 3"
    },
    "language_info": {
      "name": "python"
    },
    "accelerator": "GPU",
    "gpuClass": "standard"
  },
  "cells": [
    {
      "cell_type": "code",
      "execution_count": 1,
      "metadata": {
        "id": "1iNknC4ySg9u"
      },
      "outputs": [],
      "source": [
        "from tensorflow.keras.layers import Input,Conv2D,Concatenate,Add,SeparableConv2D,ReLU,TimeDistributed\n",
        "from tensorflow.keras.layers import MaxPool2D, Flatten, Dense,BatchNormalization,Dropout,AveragePooling2D,Activation,GlobalAveragePooling2D\n",
        "from tensorflow.keras import Model\n",
        "import tensorflow as tf\n",
        "import numpy as np \n",
        "import pandas as pd\n",
        "import matplotlib.pyplot as plt\n",
        "import seaborn as sns\n",
        "import os\n",
        "import cv2"
      ]
    },
    {
      "cell_type": "code",
      "source": [
        "from google.colab import drive\n",
        "drive.mount('/content/drive')"
      ],
      "metadata": {
        "colab": {
          "base_uri": "https://localhost:8080/"
        },
        "id": "Mr7dkZlST2yz",
        "outputId": "73df4942-7001-4f50-efa1-3b49cd4b9a95"
      },
      "execution_count": 2,
      "outputs": [
        {
          "output_type": "stream",
          "name": "stdout",
          "text": [
            "Mounted at /content/drive\n"
          ]
        }
      ]
    },
    {
      "cell_type": "code",
      "source": [
        "#!unzip '/content/drive/MyDrive/Rice.zip' -d '/content/drive/MyDrive/Rice'"
      ],
      "metadata": {
        "id": "6amY6E8gXnFM"
      },
      "execution_count": 3,
      "outputs": []
    },
    {
      "cell_type": "code",
      "source": [
        "!ls '/content/drive/MyDrive/Rice/Rice/train'"
      ],
      "metadata": {
        "colab": {
          "base_uri": "https://localhost:8080/"
        },
        "id": "FP69mYcOYuoC",
        "outputId": "83530ff9-082c-415f-b905-c0232a7a81c1"
      },
      "execution_count": 4,
      "outputs": [
        {
          "output_type": "stream",
          "name": "stdout",
          "text": [
            "'Brown Rust'   Healthy\t'Yellow Rust'\n"
          ]
        }
      ]
    },
    {
      "cell_type": "code",
      "source": [
        "!ls '/content/drive/MyDrive/Rice/Rice/val'"
      ],
      "metadata": {
        "colab": {
          "base_uri": "https://localhost:8080/"
        },
        "id": "dbVzze8uYvGB",
        "outputId": "b27155ab-d7e6-459a-d8ef-b9748fe03f7a"
      },
      "execution_count": 5,
      "outputs": [
        {
          "output_type": "stream",
          "name": "stdout",
          "text": [
            "'Brown Rust'   Healthy\t'Yellow Rust'\n"
          ]
        }
      ]
    },
    {
      "cell_type": "code",
      "source": [
        "dataset_path_train = os.listdir('/content/drive/MyDrive/Rice/Rice/train')"
      ],
      "metadata": {
        "id": "FeR0ZAryY0N0"
      },
      "execution_count": 6,
      "outputs": []
    },
    {
      "cell_type": "code",
      "source": [
        "dataset_path_validation = os.listdir('/content/drive/MyDrive/Rice/Rice/val')"
      ],
      "metadata": {
        "id": "mfsDgilUY231"
      },
      "execution_count": 7,
      "outputs": []
    },
    {
      "cell_type": "code",
      "source": [
        "disease_items_train=[]\n",
        "\n",
        "for item in dataset_path_train:\n",
        "  all_disease = os.listdir('/content/drive/MyDrive/Rice/Rice/train' +'/'+item)\n",
        "  for disease in all_disease:\n",
        "    disease_items_train.append((item , str('/content/drive/MyDrive/Rice/Rice/train'+'/'+item ) +'/'+disease ))"
      ],
      "metadata": {
        "id": "Y_vbs8ucY4e2"
      },
      "execution_count": 8,
      "outputs": []
    },
    {
      "cell_type": "code",
      "source": [
        "train_disease_df = pd.DataFrame(data=disease_items_train,columns = ['Train_Disease_Type' ,'Train_Disease_Image'])\n",
        "train_disease_df.head()"
      ],
      "metadata": {
        "colab": {
          "base_uri": "https://localhost:8080/",
          "height": 206
        },
        "id": "MJsLb7iVY4mE",
        "outputId": "fd1e2098-8799-4a91-9d8d-475edc4977a2"
      },
      "execution_count": 9,
      "outputs": [
        {
          "output_type": "execute_result",
          "data": {
            "text/plain": [
              "  Train_Disease_Type                                Train_Disease_Image\n",
              "0         Brown Rust  /content/drive/MyDrive/Rice/Rice/train/Brown R...\n",
              "1         Brown Rust  /content/drive/MyDrive/Rice/Rice/train/Brown R...\n",
              "2         Brown Rust  /content/drive/MyDrive/Rice/Rice/train/Brown R...\n",
              "3         Brown Rust  /content/drive/MyDrive/Rice/Rice/train/Brown R...\n",
              "4         Brown Rust  /content/drive/MyDrive/Rice/Rice/train/Brown R..."
            ],
            "text/html": [
              "\n",
              "  <div id=\"df-01f18a4c-7e64-47f1-acba-ef18eaf2d82c\">\n",
              "    <div class=\"colab-df-container\">\n",
              "      <div>\n",
              "<style scoped>\n",
              "    .dataframe tbody tr th:only-of-type {\n",
              "        vertical-align: middle;\n",
              "    }\n",
              "\n",
              "    .dataframe tbody tr th {\n",
              "        vertical-align: top;\n",
              "    }\n",
              "\n",
              "    .dataframe thead th {\n",
              "        text-align: right;\n",
              "    }\n",
              "</style>\n",
              "<table border=\"1\" class=\"dataframe\">\n",
              "  <thead>\n",
              "    <tr style=\"text-align: right;\">\n",
              "      <th></th>\n",
              "      <th>Train_Disease_Type</th>\n",
              "      <th>Train_Disease_Image</th>\n",
              "    </tr>\n",
              "  </thead>\n",
              "  <tbody>\n",
              "    <tr>\n",
              "      <th>0</th>\n",
              "      <td>Brown Rust</td>\n",
              "      <td>/content/drive/MyDrive/Rice/Rice/train/Brown R...</td>\n",
              "    </tr>\n",
              "    <tr>\n",
              "      <th>1</th>\n",
              "      <td>Brown Rust</td>\n",
              "      <td>/content/drive/MyDrive/Rice/Rice/train/Brown R...</td>\n",
              "    </tr>\n",
              "    <tr>\n",
              "      <th>2</th>\n",
              "      <td>Brown Rust</td>\n",
              "      <td>/content/drive/MyDrive/Rice/Rice/train/Brown R...</td>\n",
              "    </tr>\n",
              "    <tr>\n",
              "      <th>3</th>\n",
              "      <td>Brown Rust</td>\n",
              "      <td>/content/drive/MyDrive/Rice/Rice/train/Brown R...</td>\n",
              "    </tr>\n",
              "    <tr>\n",
              "      <th>4</th>\n",
              "      <td>Brown Rust</td>\n",
              "      <td>/content/drive/MyDrive/Rice/Rice/train/Brown R...</td>\n",
              "    </tr>\n",
              "  </tbody>\n",
              "</table>\n",
              "</div>\n",
              "      <button class=\"colab-df-convert\" onclick=\"convertToInteractive('df-01f18a4c-7e64-47f1-acba-ef18eaf2d82c')\"\n",
              "              title=\"Convert this dataframe to an interactive table.\"\n",
              "              style=\"display:none;\">\n",
              "        \n",
              "  <svg xmlns=\"http://www.w3.org/2000/svg\" height=\"24px\"viewBox=\"0 0 24 24\"\n",
              "       width=\"24px\">\n",
              "    <path d=\"M0 0h24v24H0V0z\" fill=\"none\"/>\n",
              "    <path d=\"M18.56 5.44l.94 2.06.94-2.06 2.06-.94-2.06-.94-.94-2.06-.94 2.06-2.06.94zm-11 1L8.5 8.5l.94-2.06 2.06-.94-2.06-.94L8.5 2.5l-.94 2.06-2.06.94zm10 10l.94 2.06.94-2.06 2.06-.94-2.06-.94-.94-2.06-.94 2.06-2.06.94z\"/><path d=\"M17.41 7.96l-1.37-1.37c-.4-.4-.92-.59-1.43-.59-.52 0-1.04.2-1.43.59L10.3 9.45l-7.72 7.72c-.78.78-.78 2.05 0 2.83L4 21.41c.39.39.9.59 1.41.59.51 0 1.02-.2 1.41-.59l7.78-7.78 2.81-2.81c.8-.78.8-2.07 0-2.86zM5.41 20L4 18.59l7.72-7.72 1.47 1.35L5.41 20z\"/>\n",
              "  </svg>\n",
              "      </button>\n",
              "      \n",
              "  <style>\n",
              "    .colab-df-container {\n",
              "      display:flex;\n",
              "      flex-wrap:wrap;\n",
              "      gap: 12px;\n",
              "    }\n",
              "\n",
              "    .colab-df-convert {\n",
              "      background-color: #E8F0FE;\n",
              "      border: none;\n",
              "      border-radius: 50%;\n",
              "      cursor: pointer;\n",
              "      display: none;\n",
              "      fill: #1967D2;\n",
              "      height: 32px;\n",
              "      padding: 0 0 0 0;\n",
              "      width: 32px;\n",
              "    }\n",
              "\n",
              "    .colab-df-convert:hover {\n",
              "      background-color: #E2EBFA;\n",
              "      box-shadow: 0px 1px 2px rgba(60, 64, 67, 0.3), 0px 1px 3px 1px rgba(60, 64, 67, 0.15);\n",
              "      fill: #174EA6;\n",
              "    }\n",
              "\n",
              "    [theme=dark] .colab-df-convert {\n",
              "      background-color: #3B4455;\n",
              "      fill: #D2E3FC;\n",
              "    }\n",
              "\n",
              "    [theme=dark] .colab-df-convert:hover {\n",
              "      background-color: #434B5C;\n",
              "      box-shadow: 0px 1px 3px 1px rgba(0, 0, 0, 0.15);\n",
              "      filter: drop-shadow(0px 1px 2px rgba(0, 0, 0, 0.3));\n",
              "      fill: #FFFFFF;\n",
              "    }\n",
              "  </style>\n",
              "\n",
              "      <script>\n",
              "        const buttonEl =\n",
              "          document.querySelector('#df-01f18a4c-7e64-47f1-acba-ef18eaf2d82c button.colab-df-convert');\n",
              "        buttonEl.style.display =\n",
              "          google.colab.kernel.accessAllowed ? 'block' : 'none';\n",
              "\n",
              "        async function convertToInteractive(key) {\n",
              "          const element = document.querySelector('#df-01f18a4c-7e64-47f1-acba-ef18eaf2d82c');\n",
              "          const dataTable =\n",
              "            await google.colab.kernel.invokeFunction('convertToInteractive',\n",
              "                                                     [key], {});\n",
              "          if (!dataTable) return;\n",
              "\n",
              "          const docLinkHtml = 'Like what you see? Visit the ' +\n",
              "            '<a target=\"_blank\" href=https://colab.research.google.com/notebooks/data_table.ipynb>data table notebook</a>'\n",
              "            + ' to learn more about interactive tables.';\n",
              "          element.innerHTML = '';\n",
              "          dataTable['output_type'] = 'display_data';\n",
              "          await google.colab.output.renderOutput(dataTable, element);\n",
              "          const docLink = document.createElement('div');\n",
              "          docLink.innerHTML = docLinkHtml;\n",
              "          element.appendChild(docLink);\n",
              "        }\n",
              "      </script>\n",
              "    </div>\n",
              "  </div>\n",
              "  "
            ]
          },
          "metadata": {},
          "execution_count": 9
        }
      ]
    },
    {
      "cell_type": "code",
      "source": [
        "disease_items_test=[]\n",
        "\n",
        "for item in dataset_path_validation:\n",
        "  all_disease = os.listdir('/content/drive/MyDrive/Rice/Rice/val' +'/'+item)\n",
        "  for disease in all_disease:\n",
        "    disease_items_test.append((item , str('/content/drive/MyDrive/Rice/Rice/val'+'/'+item ) +'/'+disease ))"
      ],
      "metadata": {
        "id": "-tPbD3P5Y4pV"
      },
      "execution_count": 10,
      "outputs": []
    },
    {
      "cell_type": "code",
      "source": [
        "test_disease_df = pd.DataFrame(data=disease_items_test,columns = ['Test_Disease_Type' ,'Test_Disease_Image'])\n",
        "test_disease_df.head()"
      ],
      "metadata": {
        "colab": {
          "base_uri": "https://localhost:8080/",
          "height": 206
        },
        "id": "vzo9F3cGY4sN",
        "outputId": "38389028-5e2f-403f-b1fb-51014acacd33"
      },
      "execution_count": 11,
      "outputs": [
        {
          "output_type": "execute_result",
          "data": {
            "text/plain": [
              "  Test_Disease_Type                                 Test_Disease_Image\n",
              "0        Brown Rust  /content/drive/MyDrive/Rice/Rice/val/Brown Rus...\n",
              "1        Brown Rust  /content/drive/MyDrive/Rice/Rice/val/Brown Rus...\n",
              "2        Brown Rust  /content/drive/MyDrive/Rice/Rice/val/Brown Rus...\n",
              "3        Brown Rust  /content/drive/MyDrive/Rice/Rice/val/Brown Rus...\n",
              "4        Brown Rust  /content/drive/MyDrive/Rice/Rice/val/Brown Rus..."
            ],
            "text/html": [
              "\n",
              "  <div id=\"df-a935fd68-f2f5-4164-9f20-464356b572bb\">\n",
              "    <div class=\"colab-df-container\">\n",
              "      <div>\n",
              "<style scoped>\n",
              "    .dataframe tbody tr th:only-of-type {\n",
              "        vertical-align: middle;\n",
              "    }\n",
              "\n",
              "    .dataframe tbody tr th {\n",
              "        vertical-align: top;\n",
              "    }\n",
              "\n",
              "    .dataframe thead th {\n",
              "        text-align: right;\n",
              "    }\n",
              "</style>\n",
              "<table border=\"1\" class=\"dataframe\">\n",
              "  <thead>\n",
              "    <tr style=\"text-align: right;\">\n",
              "      <th></th>\n",
              "      <th>Test_Disease_Type</th>\n",
              "      <th>Test_Disease_Image</th>\n",
              "    </tr>\n",
              "  </thead>\n",
              "  <tbody>\n",
              "    <tr>\n",
              "      <th>0</th>\n",
              "      <td>Brown Rust</td>\n",
              "      <td>/content/drive/MyDrive/Rice/Rice/val/Brown Rus...</td>\n",
              "    </tr>\n",
              "    <tr>\n",
              "      <th>1</th>\n",
              "      <td>Brown Rust</td>\n",
              "      <td>/content/drive/MyDrive/Rice/Rice/val/Brown Rus...</td>\n",
              "    </tr>\n",
              "    <tr>\n",
              "      <th>2</th>\n",
              "      <td>Brown Rust</td>\n",
              "      <td>/content/drive/MyDrive/Rice/Rice/val/Brown Rus...</td>\n",
              "    </tr>\n",
              "    <tr>\n",
              "      <th>3</th>\n",
              "      <td>Brown Rust</td>\n",
              "      <td>/content/drive/MyDrive/Rice/Rice/val/Brown Rus...</td>\n",
              "    </tr>\n",
              "    <tr>\n",
              "      <th>4</th>\n",
              "      <td>Brown Rust</td>\n",
              "      <td>/content/drive/MyDrive/Rice/Rice/val/Brown Rus...</td>\n",
              "    </tr>\n",
              "  </tbody>\n",
              "</table>\n",
              "</div>\n",
              "      <button class=\"colab-df-convert\" onclick=\"convertToInteractive('df-a935fd68-f2f5-4164-9f20-464356b572bb')\"\n",
              "              title=\"Convert this dataframe to an interactive table.\"\n",
              "              style=\"display:none;\">\n",
              "        \n",
              "  <svg xmlns=\"http://www.w3.org/2000/svg\" height=\"24px\"viewBox=\"0 0 24 24\"\n",
              "       width=\"24px\">\n",
              "    <path d=\"M0 0h24v24H0V0z\" fill=\"none\"/>\n",
              "    <path d=\"M18.56 5.44l.94 2.06.94-2.06 2.06-.94-2.06-.94-.94-2.06-.94 2.06-2.06.94zm-11 1L8.5 8.5l.94-2.06 2.06-.94-2.06-.94L8.5 2.5l-.94 2.06-2.06.94zm10 10l.94 2.06.94-2.06 2.06-.94-2.06-.94-.94-2.06-.94 2.06-2.06.94z\"/><path d=\"M17.41 7.96l-1.37-1.37c-.4-.4-.92-.59-1.43-.59-.52 0-1.04.2-1.43.59L10.3 9.45l-7.72 7.72c-.78.78-.78 2.05 0 2.83L4 21.41c.39.39.9.59 1.41.59.51 0 1.02-.2 1.41-.59l7.78-7.78 2.81-2.81c.8-.78.8-2.07 0-2.86zM5.41 20L4 18.59l7.72-7.72 1.47 1.35L5.41 20z\"/>\n",
              "  </svg>\n",
              "      </button>\n",
              "      \n",
              "  <style>\n",
              "    .colab-df-container {\n",
              "      display:flex;\n",
              "      flex-wrap:wrap;\n",
              "      gap: 12px;\n",
              "    }\n",
              "\n",
              "    .colab-df-convert {\n",
              "      background-color: #E8F0FE;\n",
              "      border: none;\n",
              "      border-radius: 50%;\n",
              "      cursor: pointer;\n",
              "      display: none;\n",
              "      fill: #1967D2;\n",
              "      height: 32px;\n",
              "      padding: 0 0 0 0;\n",
              "      width: 32px;\n",
              "    }\n",
              "\n",
              "    .colab-df-convert:hover {\n",
              "      background-color: #E2EBFA;\n",
              "      box-shadow: 0px 1px 2px rgba(60, 64, 67, 0.3), 0px 1px 3px 1px rgba(60, 64, 67, 0.15);\n",
              "      fill: #174EA6;\n",
              "    }\n",
              "\n",
              "    [theme=dark] .colab-df-convert {\n",
              "      background-color: #3B4455;\n",
              "      fill: #D2E3FC;\n",
              "    }\n",
              "\n",
              "    [theme=dark] .colab-df-convert:hover {\n",
              "      background-color: #434B5C;\n",
              "      box-shadow: 0px 1px 3px 1px rgba(0, 0, 0, 0.15);\n",
              "      filter: drop-shadow(0px 1px 2px rgba(0, 0, 0, 0.3));\n",
              "      fill: #FFFFFF;\n",
              "    }\n",
              "  </style>\n",
              "\n",
              "      <script>\n",
              "        const buttonEl =\n",
              "          document.querySelector('#df-a935fd68-f2f5-4164-9f20-464356b572bb button.colab-df-convert');\n",
              "        buttonEl.style.display =\n",
              "          google.colab.kernel.accessAllowed ? 'block' : 'none';\n",
              "\n",
              "        async function convertToInteractive(key) {\n",
              "          const element = document.querySelector('#df-a935fd68-f2f5-4164-9f20-464356b572bb');\n",
              "          const dataTable =\n",
              "            await google.colab.kernel.invokeFunction('convertToInteractive',\n",
              "                                                     [key], {});\n",
              "          if (!dataTable) return;\n",
              "\n",
              "          const docLinkHtml = 'Like what you see? Visit the ' +\n",
              "            '<a target=\"_blank\" href=https://colab.research.google.com/notebooks/data_table.ipynb>data table notebook</a>'\n",
              "            + ' to learn more about interactive tables.';\n",
              "          element.innerHTML = '';\n",
              "          dataTable['output_type'] = 'display_data';\n",
              "          await google.colab.output.renderOutput(dataTable, element);\n",
              "          const docLink = document.createElement('div');\n",
              "          docLink.innerHTML = docLinkHtml;\n",
              "          element.appendChild(docLink);\n",
              "        }\n",
              "      </script>\n",
              "    </div>\n",
              "  </div>\n",
              "  "
            ]
          },
          "metadata": {},
          "execution_count": 11
        }
      ]
    },
    {
      "cell_type": "code",
      "source": [
        "img_width = 224\n",
        "img_height = 224\n",
        "train_images = []\n",
        "train_labels = []\n",
        "path ='/content/drive/MyDrive/Rice/Rice/train/'\n",
        "for i in dataset_path_train:\n",
        "  data_path = path+str(i)\n",
        "  file_names = [i for i in os.listdir(data_path)]\n",
        "  #print(file_names)\n",
        "  for f in file_names:\n",
        "    img = cv2.imread(data_path+'/'+f)\n",
        "    img = cv2.resize(img,(img_width,img_height))\n",
        "    train_images.append(img)\n",
        "    train_labels.append(i)"
      ],
      "metadata": {
        "id": "EDAuv8i8Y_-q"
      },
      "execution_count": 12,
      "outputs": []
    },
    {
      "cell_type": "code",
      "source": [
        "train_labels = np.array(train_labels)\n",
        "print(train_labels)"
      ],
      "metadata": {
        "colab": {
          "base_uri": "https://localhost:8080/"
        },
        "id": "cnfYsvPvZBuk",
        "outputId": "9ace5b8f-ab90-47ec-ca3b-242bc981bda8"
      },
      "execution_count": 13,
      "outputs": [
        {
          "output_type": "stream",
          "name": "stdout",
          "text": [
            "['Brown Rust' 'Brown Rust' 'Brown Rust' ... 'Healthy' 'Healthy' 'Healthy']\n"
          ]
        }
      ]
    },
    {
      "cell_type": "code",
      "source": [
        "img_width = 224\n",
        "img_height = 224\n",
        "test_images = []\n",
        "test_labels = []\n",
        "\n",
        "path = '/content/drive/MyDrive/Rice/Rice/val/'\n",
        "for i in dataset_path_validation:\n",
        "  data_path = path+str(i)\n",
        "  file_names = [i for i in os.listdir(data_path)]\n",
        "  #print(file_names)\n",
        "  for f in file_names:\n",
        "    img = cv2.imread(data_path+'/'+f)\n",
        "    img = cv2.resize(img,(img_width,img_height))\n",
        "    test_images.append(img)\n",
        "    test_labels.append(i)"
      ],
      "metadata": {
        "id": "qSufv5MwZDhC"
      },
      "execution_count": 14,
      "outputs": []
    },
    {
      "cell_type": "code",
      "source": [
        "test_labels = np.array(test_labels)\n",
        "print(test_labels)"
      ],
      "metadata": {
        "colab": {
          "base_uri": "https://localhost:8080/"
        },
        "id": "9q4elTEKZDlZ",
        "outputId": "eaa8816f-ceeb-475f-d809-11beece638b1"
      },
      "execution_count": 15,
      "outputs": [
        {
          "output_type": "stream",
          "name": "stdout",
          "text": [
            "['Brown Rust' 'Brown Rust' 'Brown Rust' 'Brown Rust' 'Brown Rust'\n",
            " 'Brown Rust' 'Brown Rust' 'Brown Rust' 'Brown Rust' 'Brown Rust'\n",
            " 'Brown Rust' 'Brown Rust' 'Brown Rust' 'Brown Rust' 'Brown Rust'\n",
            " 'Brown Rust' 'Brown Rust' 'Brown Rust' 'Brown Rust' 'Brown Rust'\n",
            " 'Brown Rust' 'Brown Rust' 'Brown Rust' 'Brown Rust' 'Brown Rust'\n",
            " 'Brown Rust' 'Brown Rust' 'Brown Rust' 'Brown Rust' 'Brown Rust'\n",
            " 'Brown Rust' 'Brown Rust' 'Brown Rust' 'Brown Rust' 'Brown Rust'\n",
            " 'Brown Rust' 'Brown Rust' 'Brown Rust' 'Brown Rust' 'Brown Rust'\n",
            " 'Brown Rust' 'Brown Rust' 'Brown Rust' 'Brown Rust' 'Brown Rust'\n",
            " 'Brown Rust' 'Brown Rust' 'Brown Rust' 'Brown Rust' 'Brown Rust'\n",
            " 'Brown Rust' 'Brown Rust' 'Brown Rust' 'Brown Rust' 'Brown Rust'\n",
            " 'Brown Rust' 'Brown Rust' 'Brown Rust' 'Brown Rust' 'Brown Rust'\n",
            " 'Brown Rust' 'Brown Rust' 'Brown Rust' 'Brown Rust' 'Brown Rust'\n",
            " 'Brown Rust' 'Brown Rust' 'Brown Rust' 'Brown Rust' 'Brown Rust'\n",
            " 'Brown Rust' 'Brown Rust' 'Brown Rust' 'Brown Rust' 'Brown Rust'\n",
            " 'Brown Rust' 'Brown Rust' 'Brown Rust' 'Brown Rust' 'Brown Rust'\n",
            " 'Brown Rust' 'Brown Rust' 'Brown Rust' 'Brown Rust' 'Brown Rust'\n",
            " 'Brown Rust' 'Brown Rust' 'Brown Rust' 'Brown Rust' 'Brown Rust'\n",
            " 'Brown Rust' 'Brown Rust' 'Brown Rust' 'Brown Rust' 'Brown Rust'\n",
            " 'Brown Rust' 'Brown Rust' 'Brown Rust' 'Brown Rust' 'Brown Rust'\n",
            " 'Brown Rust' 'Brown Rust' 'Brown Rust' 'Brown Rust' 'Brown Rust'\n",
            " 'Brown Rust' 'Brown Rust' 'Brown Rust' 'Brown Rust' 'Brown Rust'\n",
            " 'Brown Rust' 'Brown Rust' 'Brown Rust' 'Brown Rust' 'Brown Rust'\n",
            " 'Brown Rust' 'Brown Rust' 'Brown Rust' 'Brown Rust' 'Brown Rust'\n",
            " 'Brown Rust' 'Brown Rust' 'Brown Rust' 'Brown Rust' 'Brown Rust'\n",
            " 'Brown Rust' 'Brown Rust' 'Brown Rust' 'Brown Rust' 'Brown Rust'\n",
            " 'Brown Rust' 'Brown Rust' 'Brown Rust' 'Brown Rust' 'Brown Rust'\n",
            " 'Brown Rust' 'Brown Rust' 'Brown Rust' 'Brown Rust' 'Brown Rust'\n",
            " 'Brown Rust' 'Brown Rust' 'Brown Rust' 'Brown Rust' 'Brown Rust'\n",
            " 'Brown Rust' 'Brown Rust' 'Brown Rust' 'Brown Rust' 'Brown Rust'\n",
            " 'Brown Rust' 'Brown Rust' 'Brown Rust' 'Brown Rust' 'Brown Rust'\n",
            " 'Brown Rust' 'Brown Rust' 'Brown Rust' 'Brown Rust' 'Brown Rust'\n",
            " 'Brown Rust' 'Brown Rust' 'Brown Rust' 'Brown Rust' 'Brown Rust'\n",
            " 'Brown Rust' 'Brown Rust' 'Brown Rust' 'Brown Rust' 'Brown Rust'\n",
            " 'Brown Rust' 'Brown Rust' 'Brown Rust' 'Brown Rust' 'Brown Rust'\n",
            " 'Brown Rust' 'Brown Rust' 'Brown Rust' 'Brown Rust' 'Brown Rust'\n",
            " 'Brown Rust' 'Brown Rust' 'Brown Rust' 'Brown Rust' 'Brown Rust'\n",
            " 'Brown Rust' 'Brown Rust' 'Brown Rust' 'Brown Rust' 'Brown Rust'\n",
            " 'Brown Rust' 'Brown Rust' 'Brown Rust' 'Brown Rust' 'Brown Rust'\n",
            " 'Brown Rust' 'Brown Rust' 'Brown Rust' 'Brown Rust' 'Brown Rust'\n",
            " 'Brown Rust' 'Brown Rust' 'Brown Rust' 'Brown Rust' 'Brown Rust'\n",
            " 'Brown Rust' 'Brown Rust' 'Brown Rust' 'Brown Rust' 'Brown Rust'\n",
            " 'Brown Rust' 'Brown Rust' 'Brown Rust' 'Brown Rust' 'Brown Rust'\n",
            " 'Brown Rust' 'Brown Rust' 'Brown Rust' 'Brown Rust' 'Brown Rust'\n",
            " 'Brown Rust' 'Brown Rust' 'Brown Rust' 'Brown Rust' 'Brown Rust'\n",
            " 'Brown Rust' 'Healthy' 'Healthy' 'Healthy' 'Healthy' 'Healthy' 'Healthy'\n",
            " 'Healthy' 'Healthy' 'Healthy' 'Healthy' 'Healthy' 'Healthy' 'Healthy'\n",
            " 'Healthy' 'Healthy' 'Healthy' 'Healthy' 'Healthy' 'Healthy' 'Healthy'\n",
            " 'Healthy' 'Healthy' 'Healthy' 'Healthy' 'Healthy' 'Healthy' 'Healthy'\n",
            " 'Healthy' 'Healthy' 'Healthy' 'Healthy' 'Healthy' 'Healthy' 'Healthy'\n",
            " 'Healthy' 'Healthy' 'Healthy' 'Healthy' 'Healthy' 'Healthy' 'Healthy'\n",
            " 'Healthy' 'Healthy' 'Healthy' 'Healthy' 'Healthy' 'Healthy' 'Healthy'\n",
            " 'Healthy' 'Healthy' 'Healthy' 'Healthy' 'Healthy' 'Healthy' 'Healthy'\n",
            " 'Healthy' 'Healthy' 'Healthy' 'Healthy' 'Healthy' 'Healthy' 'Healthy'\n",
            " 'Healthy' 'Healthy' 'Healthy' 'Healthy' 'Healthy' 'Healthy' 'Healthy'\n",
            " 'Healthy' 'Healthy' 'Healthy' 'Healthy' 'Healthy' 'Healthy' 'Healthy'\n",
            " 'Healthy' 'Healthy' 'Healthy' 'Healthy' 'Healthy' 'Healthy' 'Healthy'\n",
            " 'Healthy' 'Healthy' 'Healthy' 'Healthy' 'Healthy' 'Healthy' 'Healthy'\n",
            " 'Healthy' 'Healthy' 'Healthy' 'Healthy' 'Healthy' 'Healthy' 'Healthy'\n",
            " 'Healthy' 'Healthy' 'Healthy' 'Healthy' 'Healthy' 'Healthy' 'Healthy'\n",
            " 'Healthy' 'Healthy' 'Healthy' 'Healthy' 'Healthy' 'Healthy' 'Healthy'\n",
            " 'Healthy' 'Healthy' 'Healthy' 'Healthy' 'Healthy' 'Healthy' 'Healthy'\n",
            " 'Healthy' 'Healthy' 'Healthy' 'Healthy' 'Healthy' 'Healthy' 'Healthy'\n",
            " 'Healthy' 'Healthy' 'Healthy' 'Healthy' 'Healthy' 'Healthy' 'Healthy'\n",
            " 'Healthy' 'Healthy' 'Healthy' 'Healthy' 'Healthy' 'Healthy' 'Healthy'\n",
            " 'Healthy' 'Healthy' 'Healthy' 'Healthy' 'Healthy' 'Healthy' 'Healthy'\n",
            " 'Healthy' 'Healthy' 'Healthy' 'Healthy' 'Healthy' 'Healthy' 'Healthy'\n",
            " 'Healthy' 'Healthy' 'Healthy' 'Healthy' 'Healthy' 'Healthy' 'Healthy'\n",
            " 'Healthy' 'Healthy' 'Healthy' 'Healthy' 'Healthy' 'Healthy' 'Healthy'\n",
            " 'Healthy' 'Healthy' 'Healthy' 'Healthy' 'Healthy' 'Healthy' 'Healthy'\n",
            " 'Healthy' 'Healthy' 'Healthy' 'Healthy' 'Healthy' 'Healthy' 'Healthy'\n",
            " 'Healthy' 'Healthy' 'Healthy' 'Healthy' 'Healthy' 'Healthy' 'Healthy'\n",
            " 'Healthy' 'Healthy' 'Healthy' 'Healthy' 'Healthy' 'Healthy' 'Healthy'\n",
            " 'Healthy' 'Healthy' 'Healthy' 'Healthy' 'Healthy' 'Healthy' 'Healthy'\n",
            " 'Healthy' 'Healthy' 'Healthy' 'Healthy' 'Healthy' 'Healthy' 'Healthy'\n",
            " 'Healthy' 'Healthy' 'Healthy' 'Healthy' 'Healthy' 'Healthy' 'Healthy'\n",
            " 'Healthy' 'Healthy' 'Healthy' 'Healthy' 'Healthy' 'Healthy' 'Healthy'\n",
            " 'Healthy' 'Healthy' 'Healthy' 'Healthy' 'Healthy' 'Healthy' 'Healthy'\n",
            " 'Healthy' 'Healthy' 'Healthy' 'Healthy' 'Healthy' 'Healthy' 'Healthy'\n",
            " 'Healthy' 'Healthy' 'Healthy' 'Healthy' 'Healthy' 'Healthy' 'Healthy'\n",
            " 'Healthy' 'Healthy' 'Healthy' 'Healthy' 'Healthy' 'Healthy' 'Healthy'\n",
            " 'Healthy' 'Healthy' 'Healthy' 'Healthy' 'Healthy' 'Healthy' 'Healthy'\n",
            " 'Healthy' 'Healthy' 'Healthy' 'Healthy' 'Healthy' 'Healthy' 'Healthy'\n",
            " 'Healthy' 'Healthy' 'Healthy' 'Healthy' 'Healthy' 'Healthy' 'Healthy'\n",
            " 'Healthy' 'Healthy' 'Healthy' 'Healthy' 'Healthy' 'Healthy' 'Healthy'\n",
            " 'Yellow Rust' 'Yellow Rust' 'Yellow Rust' 'Yellow Rust' 'Yellow Rust'\n",
            " 'Yellow Rust' 'Yellow Rust' 'Yellow Rust' 'Yellow Rust' 'Yellow Rust'\n",
            " 'Yellow Rust' 'Yellow Rust' 'Yellow Rust' 'Yellow Rust' 'Yellow Rust'\n",
            " 'Yellow Rust' 'Yellow Rust' 'Yellow Rust' 'Yellow Rust' 'Yellow Rust'\n",
            " 'Yellow Rust' 'Yellow Rust' 'Yellow Rust' 'Yellow Rust' 'Yellow Rust'\n",
            " 'Yellow Rust' 'Yellow Rust' 'Yellow Rust' 'Yellow Rust' 'Yellow Rust'\n",
            " 'Yellow Rust' 'Yellow Rust' 'Yellow Rust' 'Yellow Rust' 'Yellow Rust'\n",
            " 'Yellow Rust' 'Yellow Rust' 'Yellow Rust' 'Yellow Rust' 'Yellow Rust'\n",
            " 'Yellow Rust' 'Yellow Rust' 'Yellow Rust' 'Yellow Rust' 'Yellow Rust'\n",
            " 'Yellow Rust' 'Yellow Rust' 'Yellow Rust' 'Yellow Rust' 'Yellow Rust'\n",
            " 'Yellow Rust' 'Yellow Rust' 'Yellow Rust' 'Yellow Rust' 'Yellow Rust'\n",
            " 'Yellow Rust' 'Yellow Rust' 'Yellow Rust' 'Yellow Rust' 'Yellow Rust'\n",
            " 'Yellow Rust' 'Yellow Rust' 'Yellow Rust' 'Yellow Rust' 'Yellow Rust'\n",
            " 'Yellow Rust' 'Yellow Rust' 'Yellow Rust' 'Yellow Rust' 'Yellow Rust'\n",
            " 'Yellow Rust' 'Yellow Rust' 'Yellow Rust' 'Yellow Rust' 'Yellow Rust'\n",
            " 'Yellow Rust' 'Yellow Rust' 'Yellow Rust' 'Yellow Rust' 'Yellow Rust'\n",
            " 'Yellow Rust' 'Yellow Rust' 'Yellow Rust' 'Yellow Rust' 'Yellow Rust'\n",
            " 'Yellow Rust' 'Yellow Rust' 'Yellow Rust' 'Yellow Rust' 'Yellow Rust'\n",
            " 'Yellow Rust' 'Yellow Rust' 'Yellow Rust' 'Yellow Rust' 'Yellow Rust'\n",
            " 'Yellow Rust' 'Yellow Rust' 'Yellow Rust' 'Yellow Rust' 'Yellow Rust'\n",
            " 'Yellow Rust' 'Yellow Rust' 'Yellow Rust' 'Yellow Rust' 'Yellow Rust'\n",
            " 'Yellow Rust' 'Yellow Rust' 'Yellow Rust' 'Yellow Rust' 'Yellow Rust'\n",
            " 'Yellow Rust' 'Yellow Rust' 'Yellow Rust' 'Yellow Rust' 'Yellow Rust'\n",
            " 'Yellow Rust' 'Yellow Rust' 'Yellow Rust' 'Yellow Rust' 'Yellow Rust'\n",
            " 'Yellow Rust' 'Yellow Rust' 'Yellow Rust' 'Yellow Rust' 'Yellow Rust'\n",
            " 'Yellow Rust' 'Yellow Rust' 'Yellow Rust' 'Yellow Rust' 'Yellow Rust'\n",
            " 'Yellow Rust' 'Yellow Rust' 'Yellow Rust' 'Yellow Rust' 'Yellow Rust'\n",
            " 'Yellow Rust' 'Yellow Rust' 'Yellow Rust' 'Yellow Rust' 'Yellow Rust'\n",
            " 'Yellow Rust' 'Yellow Rust' 'Yellow Rust' 'Yellow Rust' 'Yellow Rust'\n",
            " 'Yellow Rust' 'Yellow Rust' 'Yellow Rust' 'Yellow Rust' 'Yellow Rust'\n",
            " 'Yellow Rust' 'Yellow Rust' 'Yellow Rust' 'Yellow Rust' 'Yellow Rust'\n",
            " 'Yellow Rust' 'Yellow Rust' 'Yellow Rust' 'Yellow Rust' 'Yellow Rust'\n",
            " 'Yellow Rust' 'Yellow Rust' 'Yellow Rust' 'Yellow Rust' 'Yellow Rust'\n",
            " 'Yellow Rust' 'Yellow Rust' 'Yellow Rust' 'Yellow Rust' 'Yellow Rust'\n",
            " 'Yellow Rust' 'Yellow Rust' 'Yellow Rust' 'Yellow Rust' 'Yellow Rust'\n",
            " 'Yellow Rust' 'Yellow Rust' 'Yellow Rust' 'Yellow Rust' 'Yellow Rust'\n",
            " 'Yellow Rust' 'Yellow Rust' 'Yellow Rust' 'Yellow Rust' 'Yellow Rust'\n",
            " 'Yellow Rust' 'Yellow Rust' 'Yellow Rust' 'Yellow Rust' 'Yellow Rust'\n",
            " 'Yellow Rust' 'Yellow Rust' 'Yellow Rust' 'Yellow Rust' 'Yellow Rust'\n",
            " 'Yellow Rust' 'Yellow Rust' 'Yellow Rust' 'Yellow Rust' 'Yellow Rust'\n",
            " 'Yellow Rust' 'Yellow Rust' 'Yellow Rust' 'Yellow Rust' 'Yellow Rust'\n",
            " 'Yellow Rust' 'Yellow Rust' 'Yellow Rust' 'Yellow Rust' 'Yellow Rust'\n",
            " 'Yellow Rust' 'Yellow Rust' 'Yellow Rust' 'Yellow Rust' 'Yellow Rust'\n",
            " 'Yellow Rust' 'Yellow Rust' 'Yellow Rust' 'Yellow Rust' 'Yellow Rust'\n",
            " 'Yellow Rust' 'Yellow Rust' 'Yellow Rust' 'Yellow Rust' 'Yellow Rust'\n",
            " 'Yellow Rust' 'Yellow Rust' 'Yellow Rust' 'Yellow Rust' 'Yellow Rust'\n",
            " 'Yellow Rust' 'Yellow Rust']\n"
          ]
        }
      ]
    },
    {
      "cell_type": "code",
      "source": [
        "x_train = np.array(train_images)\n",
        "x_train = x_train.astype('float32')/255.0"
      ],
      "metadata": {
        "id": "OzSPynixZDoa"
      },
      "execution_count": 16,
      "outputs": []
    },
    {
      "cell_type": "code",
      "source": [
        "x_test = np.array(test_images)\n",
        "x_test = x_test.astype('float32')/255.0"
      ],
      "metadata": {
        "id": "qdaiLRvlZI06"
      },
      "execution_count": 17,
      "outputs": []
    },
    {
      "cell_type": "code",
      "source": [
        "from sklearn.preprocessing import LabelEncoder\n",
        "y_train = train_disease_df['Train_Disease_Type'].values\n",
        "y_test = test_disease_df['Test_Disease_Type'].values"
      ],
      "metadata": {
        "id": "rl4Uoud6ZKlO"
      },
      "execution_count": 18,
      "outputs": []
    },
    {
      "cell_type": "code",
      "source": [
        "le =  LabelEncoder()\n",
        "y_train = le.fit_transform(y_train)       \n",
        "y_test = le.fit_transform(y_test)        "
      ],
      "metadata": {
        "id": "j8-_46n0ZMMm"
      },
      "execution_count": 19,
      "outputs": []
    },
    {
      "cell_type": "code",
      "source": [
        "print(\"x_train:\",x_train.shape)\n",
        "print(\"y_train:\",y_train.shape)\n",
        "print(\"x_test:\",x_test.shape)\n",
        "print(\"y_test:\",y_test.shape)"
      ],
      "metadata": {
        "colab": {
          "base_uri": "https://localhost:8080/"
        },
        "id": "dZWSNDtfZN-O",
        "outputId": "fd5c6068-4398-4492-d78c-10c7539a8927"
      },
      "execution_count": 20,
      "outputs": [
        {
          "output_type": "stream",
          "name": "stdout",
          "text": [
            "x_train: (2942, 224, 224, 3)\n",
            "y_train: (2942,)\n",
            "x_test: (737, 224, 224, 3)\n",
            "y_test: (737,)\n"
          ]
        }
      ]
    },
    {
      "cell_type": "markdown",
      "source": [
        "# ***VGG19 Architecture ***"
      ],
      "metadata": {
        "id": "qein72OoeVFB"
      }
    },
    {
      "cell_type": "code",
      "source": [
        "image_height = 224\n",
        "image_width = 224\n",
        "image_channels = 3\n",
        "image_dimension = (image_height,image_width,image_channels)   #shape (height, width, channels)\n",
        "input_image = Input(shape = image_dimension) \n",
        "    \n",
        "#1st convolutional block\n",
        "x = Conv2D (filters = 64 , kernel_size = 3, activation = 'relu' , padding = 'same' , name='block1_conv1')(input_image)\n",
        "x = BatchNormalization()(x)\n",
        "x = Conv2D (filters = 64,  kernel_size = 3, activation = 'relu' , padding = 'same' , name='block1_conv2') (x)\n",
        "x = BatchNormalization()(x)\n",
        "x = Dropout(0.1)(x)\n",
        "x = MaxPool2D (pool_size= 2, strides = 2,padding ='same',name='block1_maxpool') (x)\n",
        "\n",
        "#2nd convulotional block\n",
        "x = Conv2D(filters = 128 , kernel_size = 3 , activation = 'relu' , padding = 'same', name = 'block2_conv1')(x)\n",
        "x = BatchNormalization()(x)\n",
        "x = Conv2D(filters = 128 , kernel_size = 3 , activation = 'relu' , padding = 'same' , name='block2_conv2') (x)\n",
        "x = BatchNormalization()(x)\n",
        "x = Dropout(0.1)(x)\n",
        "x = MaxPool2D(pool_size=2 , strides = 2, padding = 'same',name='block2_maxpool')(x)\n",
        "\n",
        "#3rd convulotional block\n",
        "x = Conv2D(filters = 256 , kernel_size = 3 , activation = 'relu' , padding = 'same' , name = 'block3_conv1') (x)\n",
        "x = BatchNormalization()(x)\n",
        "x = Conv2D(filters = 256 , kernel_size = 3 , activation = 'relu' , padding = 'same' , name='block3_conv2')  (x)\n",
        "x = BatchNormalization()(x)\n",
        "x = Conv2D(filters = 256 , kernel_size = 3 , activation = 'relu' , padding = 'same' , name='block3_conv3')(x)\n",
        "x = BatchNormalization()(x)\n",
        "x = Conv2D(filters = 256 , kernel_size = 3 , activation = 'relu' , padding = 'same' , name='block3_conv4')(x)\n",
        "x = BatchNormalization()(x)\n",
        "x = Dropout(0.1)(x)\n",
        "x = MaxPool2D(pool_size=2 , strides = 2, padding = 'same',name='block3_maxpool')(x)\n",
        "\n",
        "#4th convulotional block\n",
        "x = Conv2D(filters = 512 , kernel_size = 3 , activation = 'relu' , padding = 'same' , name = 'block4_conv1') (x)\n",
        "x = BatchNormalization()(x)\n",
        "x = Conv2D(filters = 512 , kernel_size = 3 , activation = 'relu' , padding = 'same' , name='block4_conv2')  (x)\n",
        "x = BatchNormalization()(x)\n",
        "x = Conv2D(filters = 512 , kernel_size = 3 , activation = 'relu' , padding = 'same' , name='block4_conv3') (x)\n",
        "x = BatchNormalization()(x)\n",
        "x = Conv2D(filters = 512 , kernel_size = 3 , activation = 'relu' , padding = 'same' , name='block4_conv4') (x)\n",
        "x = BatchNormalization()(x)\n",
        "x = Dropout(0.1)(x)\n",
        "x = MaxPool2D(pool_size=2 , strides = 2, padding = 'same',name='block4_maxpool')(x)\n",
        "\n",
        "\n",
        "#5th convulotional block\n",
        "x = Conv2D(filters = 512 , kernel_size = 3 , activation = 'relu' , padding = 'same' , name = 'block5_conv1') (x)\n",
        "x = BatchNormalization()(x)\n",
        "x = Conv2D(filters = 512 , kernel_size = 3 , activation = 'relu' , padding = 'same' , name='block5_conv2')  (x)\n",
        "x = BatchNormalization()(x)\n",
        "x = Conv2D(filters = 512 , kernel_size = 3 , activation = 'relu' , padding = 'same' , name='block5_conv3') (x)\n",
        "x = BatchNormalization()(x)\n",
        "x = Conv2D(filters = 512 , kernel_size = 3 , activation = 'relu' , padding = 'same' , name='block5_conv4') (x)\n",
        "x = BatchNormalization()(x)\n",
        "x = Dropout(0.1)(x)\n",
        "x = MaxPool2D(pool_size=2 , strides = 2, padding = 'same',name='block5_maxpool')(x)\n",
        "\n",
        "#Flattening the features\n",
        "x = Flatten(name='flatten')(x)\n",
        "\n",
        "#Dense Layers\n",
        "x = Dense(units = 4096,activation = 'relu',name='fully_connected_layer1')(x)\n",
        "x = Dense(units = 4096,activation = 'relu',name='fully_connected_layer2')(x)\n",
        "output = Dense(units = 4,activation = 'softmax',name='prediction')(x) #here, units = 7"
      ],
      "metadata": {
        "id": "ty9KVVjmT-qd"
      },
      "execution_count": 21,
      "outputs": []
    },
    {
      "cell_type": "code",
      "source": [
        "model_VGG19 = Model (inputs = input_image , outputs = output , name = 'VGG19')"
      ],
      "metadata": {
        "id": "UG9n4m-0VZJ7"
      },
      "execution_count": 22,
      "outputs": []
    },
    {
      "cell_type": "code",
      "source": [
        "model_VGG19.compile(optimizer='adam' , loss='sparse_categorical_crossentropy',metrics =['accuracy']) \n",
        "#sparse_categorical_crossentropy (scce) produces a category index of the most likely matching category."
      ],
      "metadata": {
        "id": "dF-VSKSyVcxa"
      },
      "execution_count": 23,
      "outputs": []
    },
    {
      "cell_type": "code",
      "source": [
        "model_VGG19.summary()"
      ],
      "metadata": {
        "colab": {
          "base_uri": "https://localhost:8080/"
        },
        "id": "HfxqNwpzVme_",
        "outputId": "0f47ffa5-9b52-4d59-9c53-8d16452c870e"
      },
      "execution_count": 24,
      "outputs": [
        {
          "output_type": "stream",
          "name": "stdout",
          "text": [
            "Model: \"VGG19\"\n",
            "_________________________________________________________________\n",
            " Layer (type)                Output Shape              Param #   \n",
            "=================================================================\n",
            " input_1 (InputLayer)        [(None, 224, 224, 3)]     0         \n",
            "                                                                 \n",
            " block1_conv1 (Conv2D)       (None, 224, 224, 64)      1792      \n",
            "                                                                 \n",
            " batch_normalization (BatchN  (None, 224, 224, 64)     256       \n",
            " ormalization)                                                   \n",
            "                                                                 \n",
            " block1_conv2 (Conv2D)       (None, 224, 224, 64)      36928     \n",
            "                                                                 \n",
            " batch_normalization_1 (Batc  (None, 224, 224, 64)     256       \n",
            " hNormalization)                                                 \n",
            "                                                                 \n",
            " dropout (Dropout)           (None, 224, 224, 64)      0         \n",
            "                                                                 \n",
            " block1_maxpool (MaxPooling2  (None, 112, 112, 64)     0         \n",
            " D)                                                              \n",
            "                                                                 \n",
            " block2_conv1 (Conv2D)       (None, 112, 112, 128)     73856     \n",
            "                                                                 \n",
            " batch_normalization_2 (Batc  (None, 112, 112, 128)    512       \n",
            " hNormalization)                                                 \n",
            "                                                                 \n",
            " block2_conv2 (Conv2D)       (None, 112, 112, 128)     147584    \n",
            "                                                                 \n",
            " batch_normalization_3 (Batc  (None, 112, 112, 128)    512       \n",
            " hNormalization)                                                 \n",
            "                                                                 \n",
            " dropout_1 (Dropout)         (None, 112, 112, 128)     0         \n",
            "                                                                 \n",
            " block2_maxpool (MaxPooling2  (None, 56, 56, 128)      0         \n",
            " D)                                                              \n",
            "                                                                 \n",
            " block3_conv1 (Conv2D)       (None, 56, 56, 256)       295168    \n",
            "                                                                 \n",
            " batch_normalization_4 (Batc  (None, 56, 56, 256)      1024      \n",
            " hNormalization)                                                 \n",
            "                                                                 \n",
            " block3_conv2 (Conv2D)       (None, 56, 56, 256)       590080    \n",
            "                                                                 \n",
            " batch_normalization_5 (Batc  (None, 56, 56, 256)      1024      \n",
            " hNormalization)                                                 \n",
            "                                                                 \n",
            " block3_conv3 (Conv2D)       (None, 56, 56, 256)       590080    \n",
            "                                                                 \n",
            " batch_normalization_6 (Batc  (None, 56, 56, 256)      1024      \n",
            " hNormalization)                                                 \n",
            "                                                                 \n",
            " block3_conv4 (Conv2D)       (None, 56, 56, 256)       590080    \n",
            "                                                                 \n",
            " batch_normalization_7 (Batc  (None, 56, 56, 256)      1024      \n",
            " hNormalization)                                                 \n",
            "                                                                 \n",
            " dropout_2 (Dropout)         (None, 56, 56, 256)       0         \n",
            "                                                                 \n",
            " block3_maxpool (MaxPooling2  (None, 28, 28, 256)      0         \n",
            " D)                                                              \n",
            "                                                                 \n",
            " block4_conv1 (Conv2D)       (None, 28, 28, 512)       1180160   \n",
            "                                                                 \n",
            " batch_normalization_8 (Batc  (None, 28, 28, 512)      2048      \n",
            " hNormalization)                                                 \n",
            "                                                                 \n",
            " block4_conv2 (Conv2D)       (None, 28, 28, 512)       2359808   \n",
            "                                                                 \n",
            " batch_normalization_9 (Batc  (None, 28, 28, 512)      2048      \n",
            " hNormalization)                                                 \n",
            "                                                                 \n",
            " block4_conv3 (Conv2D)       (None, 28, 28, 512)       2359808   \n",
            "                                                                 \n",
            " batch_normalization_10 (Bat  (None, 28, 28, 512)      2048      \n",
            " chNormalization)                                                \n",
            "                                                                 \n",
            " block4_conv4 (Conv2D)       (None, 28, 28, 512)       2359808   \n",
            "                                                                 \n",
            " batch_normalization_11 (Bat  (None, 28, 28, 512)      2048      \n",
            " chNormalization)                                                \n",
            "                                                                 \n",
            " dropout_3 (Dropout)         (None, 28, 28, 512)       0         \n",
            "                                                                 \n",
            " block4_maxpool (MaxPooling2  (None, 14, 14, 512)      0         \n",
            " D)                                                              \n",
            "                                                                 \n",
            " block5_conv1 (Conv2D)       (None, 14, 14, 512)       2359808   \n",
            "                                                                 \n",
            " batch_normalization_12 (Bat  (None, 14, 14, 512)      2048      \n",
            " chNormalization)                                                \n",
            "                                                                 \n",
            " block5_conv2 (Conv2D)       (None, 14, 14, 512)       2359808   \n",
            "                                                                 \n",
            " batch_normalization_13 (Bat  (None, 14, 14, 512)      2048      \n",
            " chNormalization)                                                \n",
            "                                                                 \n",
            " block5_conv3 (Conv2D)       (None, 14, 14, 512)       2359808   \n",
            "                                                                 \n",
            " batch_normalization_14 (Bat  (None, 14, 14, 512)      2048      \n",
            " chNormalization)                                                \n",
            "                                                                 \n",
            " block5_conv4 (Conv2D)       (None, 14, 14, 512)       2359808   \n",
            "                                                                 \n",
            " batch_normalization_15 (Bat  (None, 14, 14, 512)      2048      \n",
            " chNormalization)                                                \n",
            "                                                                 \n",
            " dropout_4 (Dropout)         (None, 14, 14, 512)       0         \n",
            "                                                                 \n",
            " block5_maxpool (MaxPooling2  (None, 7, 7, 512)        0         \n",
            " D)                                                              \n",
            "                                                                 \n",
            " flatten (Flatten)           (None, 25088)             0         \n",
            "                                                                 \n",
            " fully_connected_layer1 (Den  (None, 4096)             102764544 \n",
            " se)                                                             \n",
            "                                                                 \n",
            " fully_connected_layer2 (Den  (None, 4096)             16781312  \n",
            " se)                                                             \n",
            "                                                                 \n",
            " prediction (Dense)          (None, 4)                 16388     \n",
            "                                                                 \n",
            "=================================================================\n",
            "Total params: 139,608,644\n",
            "Trainable params: 139,597,636\n",
            "Non-trainable params: 11,008\n",
            "_________________________________________________________________\n"
          ]
        }
      ]
    },
    {
      "cell_type": "code",
      "source": [
        "history = model_VGG19.fit(x_train,y_train,epochs = 5,validation_data = (x_test, y_test),shuffle=True,batch_size= 15)"
      ],
      "metadata": {
        "colab": {
          "base_uri": "https://localhost:8080/"
        },
        "id": "8gzvdhNjfNms",
        "outputId": "cc60d06a-45dd-4145-fbb2-7ac71cd4d34b"
      },
      "execution_count": 25,
      "outputs": [
        {
          "output_type": "stream",
          "name": "stdout",
          "text": [
            "Epoch 1/5\n",
            "197/197 [==============================] - 114s 453ms/step - loss: 10.2940 - accuracy: 0.5687 - val_loss: 1533.6813 - val_accuracy: 0.3786\n",
            "Epoch 2/5\n",
            "197/197 [==============================] - 87s 444ms/step - loss: 1.5803 - accuracy: 0.7590 - val_loss: 3.3629 - val_accuracy: 0.3297\n",
            "Epoch 3/5\n",
            "197/197 [==============================] - 87s 444ms/step - loss: 0.6774 - accuracy: 0.8287 - val_loss: 1.6847 - val_accuracy: 0.5346\n",
            "Epoch 4/5\n",
            "197/197 [==============================] - 86s 439ms/step - loss: 0.4178 - accuracy: 0.8651 - val_loss: 1.4121 - val_accuracy: 0.5400\n",
            "Epoch 5/5\n",
            "197/197 [==============================] - 86s 439ms/step - loss: 0.5134 - accuracy: 0.8559 - val_loss: 0.5712 - val_accuracy: 0.8236\n"
          ]
        }
      ]
    },
    {
      "cell_type": "code",
      "source": [
        "acc = history.history['accuracy']\n",
        "val_acc = history.history['val_accuracy']\n",
        "loss = history.history['loss']\n",
        "val_loss = history.history['val_loss']\n",
        "\n",
        "epochs_range = range(5)\n",
        "\n",
        "plt.figure(figsize=(10, 10))\n",
        "plt.subplot(2, 2, 1)\n",
        "plt.plot(epochs_range, acc, label='Training Accuracy')\n",
        "plt.plot(epochs_range, val_acc, label='Validation Accuracy')\n",
        "plt.legend(loc='lower right')\n",
        "plt.title('Training and Validation Accuracy')\n",
        "plt.xlabel(\"Epochs\")\n",
        "plt.ylabel(\"Accuracy\")\n",
        "\n",
        "plt.subplot(2, 2, 2)\n",
        "plt.plot(epochs_range, loss, label='Training Loss')\n",
        "plt.plot(epochs_range, val_loss, label='Validation Loss')\n",
        "plt.legend(loc='upper right')\n",
        "plt.title('Training and Validation Loss')\n",
        "plt.xlabel(\"Epochs\")\n",
        "plt.ylabel(\"Loss\")\n",
        "plt.show()"
      ],
      "metadata": {
        "colab": {
          "base_uri": "https://localhost:8080/",
          "height": 325
        },
        "id": "_d2fXpwIVvLK",
        "outputId": "8f3f9963-6c6f-44c5-e64d-61b050942cb7"
      },
      "execution_count": 26,
      "outputs": [
        {
          "output_type": "display_data",
          "data": {
            "text/plain": [
              "<Figure size 720x720 with 2 Axes>"
            ],
            "image/png": "[encoded data removed]"
          },
          "metadata": {
            "needs_background": "light"
          }
        }
      ]
    },
    {
      "cell_type": "code",
      "source": [
        "#On testing data\n",
        "predictions = model_VGG19.predict(x_test)\n",
        "predictions"
      ],
      "metadata": {
        "colab": {
          "base_uri": "https://localhost:8080/"
        },
        "id": "y4hK9Kblcc3r",
        "outputId": "8a26e388-bfb2-49bc-d631-50622df1b97e"
      },
      "execution_count": 27,
      "outputs": [
        {
          "output_type": "stream",
          "name": "stdout",
          "text": [
            "24/24 [==============================] - 7s 180ms/step\n"
          ]
        },
        {
          "output_type": "execute_result",
          "data": {
            "text/plain": [
              "array([[9.9994469e-01, 1.3644803e-08, 5.5342545e-05, 2.0072962e-34],\n",
              "       [9.9982613e-01, 9.7105999e-07, 1.7293460e-04, 5.2221995e-28],\n",
              "       [9.4664514e-01, 3.6811802e-08, 5.3354830e-02, 1.3065524e-24],\n",
              "       ...,\n",
              "       [3.2199008e-05, 6.6653968e-07, 9.9996710e-01, 1.4830551e-25],\n",
              "       [1.2077363e-03, 4.8412207e-05, 9.9874383e-01, 5.5625663e-21],\n",
              "       [2.7133718e-01, 2.6560940e-02, 7.0210189e-01, 8.1691969e-09]],\n",
              "      dtype=float32)"
            ]
          },
          "metadata": {},
          "execution_count": 27
        }
      ]
    },
    {
      "cell_type": "code",
      "source": [
        "#By adding the axis argument, numpy looks at the rows and columns individually.\n",
        "#axis=1 means that the operation is performed across the rows of log_preds.\n",
        "y_pred = np.argmax(predictions,axis=1) #from log probabilities to 0 or 1\n",
        "y_pred"
      ],
      "metadata": {
        "colab": {
          "base_uri": "https://localhost:8080/"
        },
        "id": "VRD_149ncdiD",
        "outputId": "8bca9d99-13a8-4ceb-f6a4-146f6f742958"
      },
      "execution_count": 28,
      "outputs": [
        {
          "output_type": "execute_result",
          "data": {
            "text/plain": [
              "array([0, 0, 0, 0, 0, 0, 0, 0, 0, 0, 0, 0, 0, 0, 0, 0, 0, 0, 0, 0, 0, 0,\n",
              "       0, 0, 0, 0, 0, 0, 0, 0, 0, 0, 0, 0, 0, 0, 0, 0, 0, 0, 0, 0, 0, 0,\n",
              "       0, 0, 0, 0, 0, 0, 0, 0, 0, 0, 0, 0, 0, 0, 0, 0, 0, 0, 0, 0, 0, 0,\n",
              "       0, 0, 0, 0, 0, 0, 0, 0, 0, 0, 0, 0, 0, 0, 0, 0, 0, 0, 0, 0, 0, 0,\n",
              "       0, 0, 0, 0, 0, 0, 0, 0, 0, 0, 0, 0, 0, 0, 0, 0, 0, 0, 0, 0, 0, 0,\n",
              "       0, 0, 0, 0, 0, 0, 0, 0, 0, 0, 0, 0, 0, 2, 0, 0, 0, 0, 0, 0, 0, 0,\n",
              "       0, 0, 0, 0, 0, 0, 0, 0, 0, 0, 0, 0, 0, 0, 2, 0, 0, 0, 0, 0, 0, 0,\n",
              "       0, 0, 1, 0, 0, 0, 0, 0, 0, 0, 0, 0, 0, 0, 0, 0, 0, 0, 0, 0, 0, 0,\n",
              "       0, 0, 0, 0, 0, 0, 0, 0, 0, 0, 0, 0, 0, 0, 0, 0, 0, 0, 0, 0, 0, 0,\n",
              "       0, 0, 0, 0, 0, 0, 0, 0, 0, 0, 0, 0, 0, 0, 0, 0, 0, 0, 0, 0, 0, 0,\n",
              "       0, 0, 0, 0, 0, 0, 2, 1, 1, 1, 1, 1, 2, 1, 1, 1, 1, 1, 1, 2, 1, 1,\n",
              "       1, 1, 1, 1, 2, 2, 0, 2, 1, 1, 1, 1, 1, 1, 1, 1, 1, 1, 1, 1, 1, 1,\n",
              "       2, 1, 2, 1, 2, 2, 1, 2, 1, 1, 2, 2, 1, 1, 1, 1, 1, 1, 1, 1, 1, 1,\n",
              "       1, 1, 1, 1, 1, 2, 2, 1, 1, 1, 2, 1, 1, 1, 2, 1, 1, 1, 2, 1, 1, 2,\n",
              "       1, 1, 1, 1, 1, 1, 2, 1, 1, 1, 1, 2, 2, 1, 0, 1, 2, 1, 2, 2, 2, 1,\n",
              "       2, 1, 1, 1, 2, 1, 1, 1, 2, 1, 1, 1, 1, 1, 2, 1, 0, 1, 1, 1, 2, 1,\n",
              "       2, 2, 1, 2, 2, 1, 1, 2, 2, 1, 2, 2, 1, 1, 1, 2, 2, 1, 1, 1, 0, 1,\n",
              "       2, 0, 0, 1, 2, 2, 1, 2, 1, 2, 1, 1, 2, 2, 1, 1, 2, 2, 1, 1, 2, 1,\n",
              "       1, 2, 2, 1, 2, 1, 1, 1, 1, 1, 2, 1, 1, 1, 1, 1, 2, 1, 1, 1, 1, 1,\n",
              "       1, 1, 2, 1, 1, 1, 0, 1, 2, 1, 1, 1, 1, 2, 1, 1, 1, 0, 1, 2, 2, 2,\n",
              "       1, 2, 1, 1, 1, 0, 1, 2, 2, 1, 2, 2, 1, 1, 1, 2, 1, 1, 1, 1, 2, 2,\n",
              "       0, 2, 2, 1, 1, 1, 2, 2, 1, 1, 2, 1, 1, 2, 1, 1, 1, 2, 1, 2, 1, 1,\n",
              "       1, 1, 2, 2, 1, 1, 2, 2, 1, 1, 1, 1, 1, 1, 0, 1, 1, 1, 1, 2, 1, 0,\n",
              "       2, 2, 2, 2, 0, 2, 0, 2, 2, 2, 2, 2, 2, 2, 2, 0, 2, 0, 2, 2, 2, 2,\n",
              "       2, 2, 2, 2, 2, 2, 2, 2, 2, 2, 2, 2, 0, 2, 2, 2, 2, 2, 2, 2, 2, 2,\n",
              "       2, 2, 2, 2, 2, 2, 2, 2, 2, 0, 2, 2, 0, 2, 2, 2, 2, 2, 2, 2, 2, 2,\n",
              "       2, 2, 2, 2, 2, 2, 2, 2, 2, 2, 2, 2, 0, 2, 2, 2, 2, 2, 2, 2, 2, 0,\n",
              "       2, 0, 2, 2, 2, 2, 2, 2, 0, 2, 2, 2, 2, 2, 0, 2, 2, 2, 2, 0, 2, 2,\n",
              "       2, 2, 2, 2, 2, 2, 0, 0, 2, 2, 2, 2, 2, 0, 2, 0, 2, 2, 2, 2, 0, 2,\n",
              "       2, 2, 2, 2, 2, 2, 2, 2, 2, 0, 2, 2, 2, 2, 2, 2, 2, 2, 2, 0, 2, 2,\n",
              "       2, 2, 2, 2, 2, 2, 2, 0, 0, 0, 2, 2, 2, 2, 2, 2, 2, 0, 2, 2, 2, 2,\n",
              "       0, 2, 2, 2, 2, 2, 2, 2, 2, 0, 2, 2, 2, 2, 2, 2, 2, 0, 2, 2, 2, 2,\n",
              "       2, 2, 2, 2, 0, 2, 2, 0, 2, 0, 2, 2, 2, 0, 0, 2, 2, 2, 2, 2, 2, 2,\n",
              "       2, 2, 2, 2, 2, 2, 2, 2, 2, 2, 2])"
            ]
          },
          "metadata": {},
          "execution_count": 28
        }
      ]
    },
    {
      "cell_type": "code",
      "source": [
        "predicted_labels = le.inverse_transform(y_pred)\n",
        "predicted_labels"
      ],
      "metadata": {
        "colab": {
          "base_uri": "https://localhost:8080/"
        },
        "id": "qqyvp5KtclVH",
        "outputId": "a0a7a14d-1fe0-49aa-c4f0-16e9913cdc96"
      },
      "execution_count": 29,
      "outputs": [
        {
          "output_type": "execute_result",
          "data": {
            "text/plain": [
              "array(['Brown Rust', 'Brown Rust', 'Brown Rust', 'Brown Rust',\n",
              "       'Brown Rust', 'Brown Rust', 'Brown Rust', 'Brown Rust',\n",
              "       'Brown Rust', 'Brown Rust', 'Brown Rust', 'Brown Rust',\n",
              "       'Brown Rust', 'Brown Rust', 'Brown Rust', 'Brown Rust',\n",
              "       'Brown Rust', 'Brown Rust', 'Brown Rust', 'Brown Rust',\n",
              "       'Brown Rust', 'Brown Rust', 'Brown Rust', 'Brown Rust',\n",
              "       'Brown Rust', 'Brown Rust', 'Brown Rust', 'Brown Rust',\n",
              "       'Brown Rust', 'Brown Rust', 'Brown Rust', 'Brown Rust',\n",
              "       'Brown Rust', 'Brown Rust', 'Brown Rust', 'Brown Rust',\n",
              "       'Brown Rust', 'Brown Rust', 'Brown Rust', 'Brown Rust',\n",
              "       'Brown Rust', 'Brown Rust', 'Brown Rust', 'Brown Rust',\n",
              "       'Brown Rust', 'Brown Rust', 'Brown Rust', 'Brown Rust',\n",
              "       'Brown Rust', 'Brown Rust', 'Brown Rust', 'Brown Rust',\n",
              "       'Brown Rust', 'Brown Rust', 'Brown Rust', 'Brown Rust',\n",
              "       'Brown Rust', 'Brown Rust', 'Brown Rust', 'Brown Rust',\n",
              "       'Brown Rust', 'Brown Rust', 'Brown Rust', 'Brown Rust',\n",
              "       'Brown Rust', 'Brown Rust', 'Brown Rust', 'Brown Rust',\n",
              "       'Brown Rust', 'Brown Rust', 'Brown Rust', 'Brown Rust',\n",
              "       'Brown Rust', 'Brown Rust', 'Brown Rust', 'Brown Rust',\n",
              "       'Brown Rust', 'Brown Rust', 'Brown Rust', 'Brown Rust',\n",
              "       'Brown Rust', 'Brown Rust', 'Brown Rust', 'Brown Rust',\n",
              "       'Brown Rust', 'Brown Rust', 'Brown Rust', 'Brown Rust',\n",
              "       'Brown Rust', 'Brown Rust', 'Brown Rust', 'Brown Rust',\n",
              "       'Brown Rust', 'Brown Rust', 'Brown Rust', 'Brown Rust',\n",
              "       'Brown Rust', 'Brown Rust', 'Brown Rust', 'Brown Rust',\n",
              "       'Brown Rust', 'Brown Rust', 'Brown Rust', 'Brown Rust',\n",
              "       'Brown Rust', 'Brown Rust', 'Brown Rust', 'Brown Rust',\n",
              "       'Brown Rust', 'Brown Rust', 'Brown Rust', 'Brown Rust',\n",
              "       'Brown Rust', 'Brown Rust', 'Brown Rust', 'Brown Rust',\n",
              "       'Brown Rust', 'Brown Rust', 'Brown Rust', 'Brown Rust',\n",
              "       'Brown Rust', 'Brown Rust', 'Brown Rust', 'Yellow Rust',\n",
              "       'Brown Rust', 'Brown Rust', 'Brown Rust', 'Brown Rust',\n",
              "       'Brown Rust', 'Brown Rust', 'Brown Rust', 'Brown Rust',\n",
              "       'Brown Rust', 'Brown Rust', 'Brown Rust', 'Brown Rust',\n",
              "       'Brown Rust', 'Brown Rust', 'Brown Rust', 'Brown Rust',\n",
              "       'Brown Rust', 'Brown Rust', 'Brown Rust', 'Brown Rust',\n",
              "       'Brown Rust', 'Brown Rust', 'Yellow Rust', 'Brown Rust',\n",
              "       'Brown Rust', 'Brown Rust', 'Brown Rust', 'Brown Rust',\n",
              "       'Brown Rust', 'Brown Rust', 'Brown Rust', 'Brown Rust', 'Healthy',\n",
              "       'Brown Rust', 'Brown Rust', 'Brown Rust', 'Brown Rust',\n",
              "       'Brown Rust', 'Brown Rust', 'Brown Rust', 'Brown Rust',\n",
              "       'Brown Rust', 'Brown Rust', 'Brown Rust', 'Brown Rust',\n",
              "       'Brown Rust', 'Brown Rust', 'Brown Rust', 'Brown Rust',\n",
              "       'Brown Rust', 'Brown Rust', 'Brown Rust', 'Brown Rust',\n",
              "       'Brown Rust', 'Brown Rust', 'Brown Rust', 'Brown Rust',\n",
              "       'Brown Rust', 'Brown Rust', 'Brown Rust', 'Brown Rust',\n",
              "       'Brown Rust', 'Brown Rust', 'Brown Rust', 'Brown Rust',\n",
              "       'Brown Rust', 'Brown Rust', 'Brown Rust', 'Brown Rust',\n",
              "       'Brown Rust', 'Brown Rust', 'Brown Rust', 'Brown Rust',\n",
              "       'Brown Rust', 'Brown Rust', 'Brown Rust', 'Brown Rust',\n",
              "       'Brown Rust', 'Brown Rust', 'Brown Rust', 'Brown Rust',\n",
              "       'Brown Rust', 'Brown Rust', 'Brown Rust', 'Brown Rust',\n",
              "       'Brown Rust', 'Brown Rust', 'Brown Rust', 'Brown Rust',\n",
              "       'Brown Rust', 'Brown Rust', 'Brown Rust', 'Brown Rust',\n",
              "       'Brown Rust', 'Brown Rust', 'Brown Rust', 'Brown Rust',\n",
              "       'Brown Rust', 'Brown Rust', 'Brown Rust', 'Brown Rust',\n",
              "       'Brown Rust', 'Yellow Rust', 'Healthy', 'Healthy', 'Healthy',\n",
              "       'Healthy', 'Healthy', 'Yellow Rust', 'Healthy', 'Healthy',\n",
              "       'Healthy', 'Healthy', 'Healthy', 'Healthy', 'Yellow Rust',\n",
              "       'Healthy', 'Healthy', 'Healthy', 'Healthy', 'Healthy', 'Healthy',\n",
              "       'Yellow Rust', 'Yellow Rust', 'Brown Rust', 'Yellow Rust',\n",
              "       'Healthy', 'Healthy', 'Healthy', 'Healthy', 'Healthy', 'Healthy',\n",
              "       'Healthy', 'Healthy', 'Healthy', 'Healthy', 'Healthy', 'Healthy',\n",
              "       'Healthy', 'Healthy', 'Yellow Rust', 'Healthy', 'Yellow Rust',\n",
              "       'Healthy', 'Yellow Rust', 'Yellow Rust', 'Healthy', 'Yellow Rust',\n",
              "       'Healthy', 'Healthy', 'Yellow Rust', 'Yellow Rust', 'Healthy',\n",
              "       'Healthy', 'Healthy', 'Healthy', 'Healthy', 'Healthy', 'Healthy',\n",
              "       'Healthy', 'Healthy', 'Healthy', 'Healthy', 'Healthy', 'Healthy',\n",
              "       'Healthy', 'Healthy', 'Yellow Rust', 'Yellow Rust', 'Healthy',\n",
              "       'Healthy', 'Healthy', 'Yellow Rust', 'Healthy', 'Healthy',\n",
              "       'Healthy', 'Yellow Rust', 'Healthy', 'Healthy', 'Healthy',\n",
              "       'Yellow Rust', 'Healthy', 'Healthy', 'Yellow Rust', 'Healthy',\n",
              "       'Healthy', 'Healthy', 'Healthy', 'Healthy', 'Healthy',\n",
              "       'Yellow Rust', 'Healthy', 'Healthy', 'Healthy', 'Healthy',\n",
              "       'Yellow Rust', 'Yellow Rust', 'Healthy', 'Brown Rust', 'Healthy',\n",
              "       'Yellow Rust', 'Healthy', 'Yellow Rust', 'Yellow Rust',\n",
              "       'Yellow Rust', 'Healthy', 'Yellow Rust', 'Healthy', 'Healthy',\n",
              "       'Healthy', 'Yellow Rust', 'Healthy', 'Healthy', 'Healthy',\n",
              "       'Yellow Rust', 'Healthy', 'Healthy', 'Healthy', 'Healthy',\n",
              "       'Healthy', 'Yellow Rust', 'Healthy', 'Brown Rust', 'Healthy',\n",
              "       'Healthy', 'Healthy', 'Yellow Rust', 'Healthy', 'Yellow Rust',\n",
              "       'Yellow Rust', 'Healthy', 'Yellow Rust', 'Yellow Rust', 'Healthy',\n",
              "       'Healthy', 'Yellow Rust', 'Yellow Rust', 'Healthy', 'Yellow Rust',\n",
              "       'Yellow Rust', 'Healthy', 'Healthy', 'Healthy', 'Yellow Rust',\n",
              "       'Yellow Rust', 'Healthy', 'Healthy', 'Healthy', 'Brown Rust',\n",
              "       'Healthy', 'Yellow Rust', 'Brown Rust', 'Brown Rust', 'Healthy',\n",
              "       'Yellow Rust', 'Yellow Rust', 'Healthy', 'Yellow Rust', 'Healthy',\n",
              "       'Yellow Rust', 'Healthy', 'Healthy', 'Yellow Rust', 'Yellow Rust',\n",
              "       'Healthy', 'Healthy', 'Yellow Rust', 'Yellow Rust', 'Healthy',\n",
              "       'Healthy', 'Yellow Rust', 'Healthy', 'Healthy', 'Yellow Rust',\n",
              "       'Yellow Rust', 'Healthy', 'Yellow Rust', 'Healthy', 'Healthy',\n",
              "       'Healthy', 'Healthy', 'Healthy', 'Yellow Rust', 'Healthy',\n",
              "       'Healthy', 'Healthy', 'Healthy', 'Healthy', 'Yellow Rust',\n",
              "       'Healthy', 'Healthy', 'Healthy', 'Healthy', 'Healthy', 'Healthy',\n",
              "       'Healthy', 'Yellow Rust', 'Healthy', 'Healthy', 'Healthy',\n",
              "       'Brown Rust', 'Healthy', 'Yellow Rust', 'Healthy', 'Healthy',\n",
              "       'Healthy', 'Healthy', 'Yellow Rust', 'Healthy', 'Healthy',\n",
              "       'Healthy', 'Brown Rust', 'Healthy', 'Yellow Rust', 'Yellow Rust',\n",
              "       'Yellow Rust', 'Healthy', 'Yellow Rust', 'Healthy', 'Healthy',\n",
              "       'Healthy', 'Brown Rust', 'Healthy', 'Yellow Rust', 'Yellow Rust',\n",
              "       'Healthy', 'Yellow Rust', 'Yellow Rust', 'Healthy', 'Healthy',\n",
              "       'Healthy', 'Yellow Rust', 'Healthy', 'Healthy', 'Healthy',\n",
              "       'Healthy', 'Yellow Rust', 'Yellow Rust', 'Brown Rust',\n",
              "       'Yellow Rust', 'Yellow Rust', 'Healthy', 'Healthy', 'Healthy',\n",
              "       'Yellow Rust', 'Yellow Rust', 'Healthy', 'Healthy', 'Yellow Rust',\n",
              "       'Healthy', 'Healthy', 'Yellow Rust', 'Healthy', 'Healthy',\n",
              "       'Healthy', 'Yellow Rust', 'Healthy', 'Yellow Rust', 'Healthy',\n",
              "       'Healthy', 'Healthy', 'Healthy', 'Yellow Rust', 'Yellow Rust',\n",
              "       'Healthy', 'Healthy', 'Yellow Rust', 'Yellow Rust', 'Healthy',\n",
              "       'Healthy', 'Healthy', 'Healthy', 'Healthy', 'Healthy',\n",
              "       'Brown Rust', 'Healthy', 'Healthy', 'Healthy', 'Healthy',\n",
              "       'Yellow Rust', 'Healthy', 'Brown Rust', 'Yellow Rust',\n",
              "       'Yellow Rust', 'Yellow Rust', 'Yellow Rust', 'Brown Rust',\n",
              "       'Yellow Rust', 'Brown Rust', 'Yellow Rust', 'Yellow Rust',\n",
              "       'Yellow Rust', 'Yellow Rust', 'Yellow Rust', 'Yellow Rust',\n",
              "       'Yellow Rust', 'Yellow Rust', 'Brown Rust', 'Yellow Rust',\n",
              "       'Brown Rust', 'Yellow Rust', 'Yellow Rust', 'Yellow Rust',\n",
              "       'Yellow Rust', 'Yellow Rust', 'Yellow Rust', 'Yellow Rust',\n",
              "       'Yellow Rust', 'Yellow Rust', 'Yellow Rust', 'Yellow Rust',\n",
              "       'Yellow Rust', 'Yellow Rust', 'Yellow Rust', 'Yellow Rust',\n",
              "       'Yellow Rust', 'Brown Rust', 'Yellow Rust', 'Yellow Rust',\n",
              "       'Yellow Rust', 'Yellow Rust', 'Yellow Rust', 'Yellow Rust',\n",
              "       'Yellow Rust', 'Yellow Rust', 'Yellow Rust', 'Yellow Rust',\n",
              "       'Yellow Rust', 'Yellow Rust', 'Yellow Rust', 'Yellow Rust',\n",
              "       'Yellow Rust', 'Yellow Rust', 'Yellow Rust', 'Yellow Rust',\n",
              "       'Brown Rust', 'Yellow Rust', 'Yellow Rust', 'Brown Rust',\n",
              "       'Yellow Rust', 'Yellow Rust', 'Yellow Rust', 'Yellow Rust',\n",
              "       'Yellow Rust', 'Yellow Rust', 'Yellow Rust', 'Yellow Rust',\n",
              "       'Yellow Rust', 'Yellow Rust', 'Yellow Rust', 'Yellow Rust',\n",
              "       'Yellow Rust', 'Yellow Rust', 'Yellow Rust', 'Yellow Rust',\n",
              "       'Yellow Rust', 'Yellow Rust', 'Yellow Rust', 'Yellow Rust',\n",
              "       'Yellow Rust', 'Brown Rust', 'Yellow Rust', 'Yellow Rust',\n",
              "       'Yellow Rust', 'Yellow Rust', 'Yellow Rust', 'Yellow Rust',\n",
              "       'Yellow Rust', 'Yellow Rust', 'Brown Rust', 'Yellow Rust',\n",
              "       'Brown Rust', 'Yellow Rust', 'Yellow Rust', 'Yellow Rust',\n",
              "       'Yellow Rust', 'Yellow Rust', 'Yellow Rust', 'Brown Rust',\n",
              "       'Yellow Rust', 'Yellow Rust', 'Yellow Rust', 'Yellow Rust',\n",
              "       'Yellow Rust', 'Brown Rust', 'Yellow Rust', 'Yellow Rust',\n",
              "       'Yellow Rust', 'Yellow Rust', 'Brown Rust', 'Yellow Rust',\n",
              "       'Yellow Rust', 'Yellow Rust', 'Yellow Rust', 'Yellow Rust',\n",
              "       'Yellow Rust', 'Yellow Rust', 'Yellow Rust', 'Brown Rust',\n",
              "       'Brown Rust', 'Yellow Rust', 'Yellow Rust', 'Yellow Rust',\n",
              "       'Yellow Rust', 'Yellow Rust', 'Brown Rust', 'Yellow Rust',\n",
              "       'Brown Rust', 'Yellow Rust', 'Yellow Rust', 'Yellow Rust',\n",
              "       'Yellow Rust', 'Brown Rust', 'Yellow Rust', 'Yellow Rust',\n",
              "       'Yellow Rust', 'Yellow Rust', 'Yellow Rust', 'Yellow Rust',\n",
              "       'Yellow Rust', 'Yellow Rust', 'Yellow Rust', 'Yellow Rust',\n",
              "       'Brown Rust', 'Yellow Rust', 'Yellow Rust', 'Yellow Rust',\n",
              "       'Yellow Rust', 'Yellow Rust', 'Yellow Rust', 'Yellow Rust',\n",
              "       'Yellow Rust', 'Yellow Rust', 'Brown Rust', 'Yellow Rust',\n",
              "       'Yellow Rust', 'Yellow Rust', 'Yellow Rust', 'Yellow Rust',\n",
              "       'Yellow Rust', 'Yellow Rust', 'Yellow Rust', 'Yellow Rust',\n",
              "       'Brown Rust', 'Brown Rust', 'Brown Rust', 'Yellow Rust',\n",
              "       'Yellow Rust', 'Yellow Rust', 'Yellow Rust', 'Yellow Rust',\n",
              "       'Yellow Rust', 'Yellow Rust', 'Brown Rust', 'Yellow Rust',\n",
              "       'Yellow Rust', 'Yellow Rust', 'Yellow Rust', 'Brown Rust',\n",
              "       'Yellow Rust', 'Yellow Rust', 'Yellow Rust', 'Yellow Rust',\n",
              "       'Yellow Rust', 'Yellow Rust', 'Yellow Rust', 'Yellow Rust',\n",
              "       'Brown Rust', 'Yellow Rust', 'Yellow Rust', 'Yellow Rust',\n",
              "       'Yellow Rust', 'Yellow Rust', 'Yellow Rust', 'Yellow Rust',\n",
              "       'Brown Rust', 'Yellow Rust', 'Yellow Rust', 'Yellow Rust',\n",
              "       'Yellow Rust', 'Yellow Rust', 'Yellow Rust', 'Yellow Rust',\n",
              "       'Yellow Rust', 'Brown Rust', 'Yellow Rust', 'Yellow Rust',\n",
              "       'Brown Rust', 'Yellow Rust', 'Brown Rust', 'Yellow Rust',\n",
              "       'Yellow Rust', 'Yellow Rust', 'Brown Rust', 'Brown Rust',\n",
              "       'Yellow Rust', 'Yellow Rust', 'Yellow Rust', 'Yellow Rust',\n",
              "       'Yellow Rust', 'Yellow Rust', 'Yellow Rust', 'Yellow Rust',\n",
              "       'Yellow Rust', 'Yellow Rust', 'Yellow Rust', 'Yellow Rust',\n",
              "       'Yellow Rust', 'Yellow Rust', 'Yellow Rust', 'Yellow Rust',\n",
              "       'Yellow Rust', 'Yellow Rust'], dtype=object)"
            ]
          },
          "metadata": {},
          "execution_count": 29
        }
      ]
    },
    {
      "cell_type": "code",
      "source": [
        "from sklearn.metrics import confusion_matrix\n",
        "cm = confusion_matrix(test_labels,predicted_labels)\n",
        "vmin = 10\n",
        "vmax = 400\n",
        "center = 0\n",
        "xticklabels= ['Brown Rust' ,'Healthy','Yellow Rust']\n",
        "yticklabels= ['Brown Rust' ,'Healthy','Yellow Rust']\n",
        "sns.heatmap(cm, annot=True,linewidth=.8,cmap=\"BuPu\",vmin=vmin,vmax=vmax,center=center,xticklabels=xticklabels,yticklabels=yticklabels, fmt='.0f')\n",
        "font1 = {'size': 15,'alpha':0.5}\n",
        "font2 = {'size':15,'alpha':0.5}\n",
        "plt.title(\"Identification of Rice Leaf Disease using VGG19\",fontdict = font1)\n",
        "plt.xlabel(\"Predicted Labels\",fontdict = font2)\n",
        "plt.ylabel(\"Actual Labels\",fontdict = font2)\n",
        "plt.show()"
      ],
      "metadata": {
        "colab": {
          "base_uri": "https://localhost:8080/",
          "height": 302
        },
        "id": "d_Bi8edPVzKz",
        "outputId": "f356eca7-9b4d-4f79-a9d8-979e34909068"
      },
      "execution_count": 33,
      "outputs": [
        {
          "output_type": "display_data",
          "data": {
            "text/plain": [
              "<Figure size 432x288 with 2 Axes>"
            ],
            "image/png": "[encoded data removed]"
          },
          "metadata": {
            "needs_background": "light"
          }
        }
      ]
    },
    {
      "cell_type": "code",
      "source": [
        "from sklearn import metrics\n",
        "print (\"Accuracy = \", metrics.accuracy_score(y_test,y_pred))\n",
        "print (\"Precision = \", metrics.precision_score(y_test,y_pred,average='weighted', labels=np.unique(y_pred)))\n",
        "print (\"Recall = \", metrics.recall_score(y_test,y_pred,average='weighted', labels=np.unique(y_pred)))\n",
        "print (\"F1 Score = \", metrics.f1_score(y_test,y_pred,average='weighted', labels=np.unique(y_pred)))"
      ],
      "metadata": {
        "colab": {
          "base_uri": "https://localhost:8080/"
        },
        "id": "TlTkWchaWAWF",
        "outputId": "7c03d34b-0624-4e6d-b3f6-12bc8a0aae89"
      },
      "execution_count": 34,
      "outputs": [
        {
          "output_type": "stream",
          "name": "stdout",
          "text": [
            "Accuracy =  0.8236092265943012\n",
            "Precision =  0.8532156507310804\n",
            "Recall =  0.8236092265943012\n",
            "F1 Score =  0.8214383955072935\n"
          ]
        }
      ]
    }
  ]
}